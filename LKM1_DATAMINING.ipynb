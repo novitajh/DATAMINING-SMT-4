{
  "nbformat": 4,
  "nbformat_minor": 0,
  "metadata": {
    "colab": {
      "provenance": []
    },
    "kernelspec": {
      "name": "python3",
      "display_name": "Python 3"
    },
    "language_info": {
      "name": "python"
    }
  },
  "cells": [
    {
      "cell_type": "markdown",
      "source": [
        "LKM 1 DATAMINING\n",
        "\n",
        "NOFITA NUR AINI\n",
        "222410101024\n"
      ],
      "metadata": {
        "id": "yPu_-0JzjgeY"
      }
    },
    {
      "cell_type": "markdown",
      "source": [
        "**1. Buatlah array 2D berikut menggunakan numpy**"
      ],
      "metadata": {
        "id": "z2etP6aJlTWo"
      }
    },
    {
      "cell_type": "code",
      "execution_count": null,
      "metadata": {
        "colab": {
          "base_uri": "https://localhost:8080/"
        },
        "id": "hXmeX35Djb1n",
        "outputId": "ac0b57e1-1515-4e32-cf3f-660063e50507"
      },
      "outputs": [
        {
          "output_type": "stream",
          "name": "stdout",
          "text": [
            "[[4 4 5]\n",
            " [7 6 4]\n",
            " [9 7 4]\n",
            " [6 3 7]]\n"
          ]
        }
      ],
      "source": [
        "import numpy as np\n",
        "\n",
        "arr = np.array([[4, 4, 5], [7, 6, 4], [9, 7, 4], [6, 3, 7]])\n",
        "print(arr)"
      ]
    },
    {
      "cell_type": "markdown",
      "source": [
        "**2. Buatlah array 3D berikut menggunakan numpy**"
      ],
      "metadata": {
        "id": "jNYPZq1wlaHN"
      }
    },
    {
      "cell_type": "code",
      "source": [
        "import numpy as np\n",
        "arr = np.array ([[[7,8,5],[4,7,7],[7,1,9],[5,4,10]],\n",
        "                  [[2,1,2],[9,8,5],[3,7,3],[4,9,9]],\n",
        "                  [[2,9,3],[2,4,8],[1,6,6],[8,1,3]]])\n",
        "print (arr)"
      ],
      "metadata": {
        "colab": {
          "base_uri": "https://localhost:8080/"
        },
        "id": "91eMv1AUKOCn",
        "outputId": "5e2cee17-4543-4045-9328-8ec36eee02ec"
      },
      "execution_count": null,
      "outputs": [
        {
          "output_type": "stream",
          "name": "stdout",
          "text": [
            "[[[ 7  8  5]\n",
            "  [ 4  7  7]\n",
            "  [ 7  1  9]\n",
            "  [ 5  4 10]]\n",
            "\n",
            " [[ 2  1  2]\n",
            "  [ 9  8  5]\n",
            "  [ 3  7  3]\n",
            "  [ 4  9  9]]\n",
            "\n",
            " [[ 2  9  3]\n",
            "  [ 2  4  8]\n",
            "  [ 1  6  6]\n",
            "  [ 8  1  3]]]\n"
          ]
        }
      ]
    },
    {
      "cell_type": "markdown",
      "source": [
        "**3. Tambahkan angka 1 pada setiap bilangan di baris ganjil array berikut. kemudian tambahkan angka 2 pada setiap bilangan di kolom genap array berikut.**"
      ],
      "metadata": {
        "id": "T-55x6XJmT7i"
      }
    },
    {
      "cell_type": "code",
      "source": [
        "import numpy as np\n",
        "arr = np.array ([[1,8,8,2],[8,2,1,2],[10,1,4,7],[1,4,7,8],[8,2,3,4]])\n",
        "print (\"Menampilkan array awal:\")\n",
        "print (arr)\n",
        "arr [::2] += 1\n",
        "print(\"Menampilkan array setelah penambahan angka +1 pada baris ganjil:\")\n",
        "print (arr)\n",
        "\n",
        "arr [:, 1::2] +=2\n",
        "print(\"Menampilkan hasil akhir array setelah kemudian ditambah angka +2 pada kolom genap:\")\n",
        "print (arr)"
      ],
      "metadata": {
        "colab": {
          "base_uri": "https://localhost:8080/"
        },
        "id": "Y4Cb0i5qmXM6",
        "outputId": "89c8672b-bb04-4858-a847-1a6860841784"
      },
      "execution_count": null,
      "outputs": [
        {
          "output_type": "stream",
          "name": "stdout",
          "text": [
            "Menampilkan array awal:\n",
            "[[ 1  8  8  2]\n",
            " [ 8  2  1  2]\n",
            " [10  1  4  7]\n",
            " [ 1  4  7  8]\n",
            " [ 8  2  3  4]]\n",
            "Menampilkan array setelah penambahan angka +1 pada baris ganjil:\n",
            "[[ 2  9  9  3]\n",
            " [ 8  2  1  2]\n",
            " [11  2  5  8]\n",
            " [ 1  4  7  8]\n",
            " [ 9  3  4  5]]\n",
            "Menampilkan hasil akhir array setelah kemudian ditambah angka +2 pada kolom genap:\n",
            "[[ 2 11  9  5]\n",
            " [ 8  4  1  4]\n",
            " [11  4  5 10]\n",
            " [ 1  6  7 10]\n",
            " [ 9  5  4  7]]\n"
          ]
        }
      ]
    },
    {
      "cell_type": "markdown",
      "source": [
        "**4. Baliklah sumbu z array 3D berikut**"
      ],
      "metadata": {
        "id": "Zs6jZ8NYopOL"
      }
    },
    {
      "cell_type": "code",
      "source": [
        "import numpy as np\n",
        "arr = np.array ([[[7,8,5],[4,7,7],[7,1,9],[5,4,10]],\n",
        "                  [[2,1,2],[9,8,5],[3,7,3],[4,9,9]],\n",
        "                  [[2,9,3],[2,4,8],[1,6,6],[8,1,3]]])\n",
        "print (\"Array awal:\")\n",
        "print (arr)\n",
        "print (\"\\n\")\n",
        "print (\"Array setelah dibalik menjadi sumbu z:\")\n",
        "arr_flip = np.flip(arr, axis=2)\n",
        "print(arr_flip)"
      ],
      "metadata": {
        "colab": {
          "base_uri": "https://localhost:8080/"
        },
        "id": "78E-ZIDwoojj",
        "outputId": "8a775b3a-65d4-4c54-8a02-7c6687fec0ce"
      },
      "execution_count": null,
      "outputs": [
        {
          "output_type": "stream",
          "name": "stdout",
          "text": [
            "Array awal:\n",
            "[[[ 7  8  5]\n",
            "  [ 4  7  7]\n",
            "  [ 7  1  9]\n",
            "  [ 5  4 10]]\n",
            "\n",
            " [[ 2  1  2]\n",
            "  [ 9  8  5]\n",
            "  [ 3  7  3]\n",
            "  [ 4  9  9]]\n",
            "\n",
            " [[ 2  9  3]\n",
            "  [ 2  4  8]\n",
            "  [ 1  6  6]\n",
            "  [ 8  1  3]]]\n",
            "\n",
            "\n",
            "Array setelah dibalik menjadi sumbu z:\n",
            "[[[ 5  8  7]\n",
            "  [ 7  7  4]\n",
            "  [ 9  1  7]\n",
            "  [10  4  5]]\n",
            "\n",
            " [[ 2  1  2]\n",
            "  [ 5  8  9]\n",
            "  [ 3  7  3]\n",
            "  [ 9  9  4]]\n",
            "\n",
            " [[ 3  9  2]\n",
            "  [ 8  4  2]\n",
            "  [ 6  6  1]\n",
            "  [ 3  1  8]]]\n"
          ]
        }
      ]
    },
    {
      "cell_type": "markdown",
      "source": [
        "**5. Ubahlah array pada soal 4 menjadi array 2D berukuran 6 x 6 (hint : gunakan perintah reshape)**\n",
        "\n"
      ],
      "metadata": {
        "id": "uvZTbBgXpbtQ"
      }
    },
    {
      "cell_type": "code",
      "source": [
        "import numpy as np\n",
        "arr = np.array([[[7,8,5], [4,7,7] ,[7,1,9], [5,4,10]],\n",
        "                [[2,1,2], [9,8,5], [3,7,3], [4,9,9]],\n",
        "                [[2,9,3],[2,4,8],[1,6,6],[8,1,3]]])\n",
        "arr_reshaped = arr.reshape(6, 6)\n",
        "print (\"Hasil array 2D berukuran 6x6 adalah:\")\n",
        "print(arr_reshaped)"
      ],
      "metadata": {
        "colab": {
          "base_uri": "https://localhost:8080/"
        },
        "id": "XP20IokZpruf",
        "outputId": "b4f4a2b8-7948-4ef9-dc79-f32cda6b2531"
      },
      "execution_count": null,
      "outputs": [
        {
          "output_type": "stream",
          "name": "stdout",
          "text": [
            "[[[ 7  8  5]\n",
            "  [ 4  7  7]\n",
            "  [ 7  1  9]\n",
            "  [ 5  4 10]]\n",
            "\n",
            " [[ 2  1  2]\n",
            "  [ 9  8  5]\n",
            "  [ 3  7  3]\n",
            "  [ 4  9  9]]\n",
            "\n",
            " [[ 2  9  3]\n",
            "  [ 2  4  8]\n",
            "  [ 1  6  6]\n",
            "  [ 8  1  3]]]\n",
            "Hasil array 2D berukuran 6x6 adalah:\n",
            "[[ 7  8  5  4  7  7]\n",
            " [ 7  1  9  5  4 10]\n",
            " [ 2  1  2  9  8  5]\n",
            " [ 3  7  3  4  9  9]\n",
            " [ 2  9  3  2  4  8]\n",
            " [ 1  6  6  8  1  3]]\n"
          ]
        }
      ]
    },
    {
      "cell_type": "markdown",
      "source": [
        "**6. Ubahlah matriks kiri menjadi matriks sebelah kanan**"
      ],
      "metadata": {
        "id": "fetSEMuzr1K9"
      }
    },
    {
      "cell_type": "code",
      "source": [
        "import numpy as np\n",
        "arr = np.array ([[5,10,10,7],\n",
        "                 [7,8,4,10],\n",
        "                 [9,10,2,5],\n",
        "                 [1,8,9,3],\n",
        "                 [6,10,5,2],\n",
        "                 [4,6,9,4]])\n",
        "arr1 = arr[:3,0:2]\n",
        "arr2 = arr[3:6, 0:2]\n",
        "arr3 = arr[:3,2:4]\n",
        "arr4 = arr[3:6, 2:4]\n",
        "mix1 = np.concatenate((arr4, arr2), axis=1)\n",
        "mix2 = np.concatenate((arr3, arr1), axis=1)\n",
        "hasil = np.concatenate((mix1, mix2), axis=0)\n",
        "\n",
        "print('Indeks yang akan diambil per arraynya:')\n",
        "print(arr1)\n",
        "print(arr2)\n",
        "print(arr3)\n",
        "print(arr4)\n",
        "print(\"\\n\")\n",
        "print(\"Matriks awal: \\n{}\".format(arr))\n",
        "print(\"\\n\")\n",
        "print(\"Matriks setelah diubah: \\n{}\".format(hasil))"
      ],
      "metadata": {
        "id": "yOyad6FPr4Jn",
        "colab": {
          "base_uri": "https://localhost:8080/"
        },
        "outputId": "155a6b1e-8f8a-47ed-fe49-0a9b21fa76dc"
      },
      "execution_count": null,
      "outputs": [
        {
          "output_type": "stream",
          "name": "stdout",
          "text": [
            "Indeks yang akan diambil per arraynya:\n",
            "[[ 5 10]\n",
            " [ 7  8]\n",
            " [ 9 10]]\n",
            "[[ 1  8]\n",
            " [ 6 10]\n",
            " [ 4  6]]\n",
            "[[10  7]\n",
            " [ 4 10]\n",
            " [ 2  5]]\n",
            "[[9 3]\n",
            " [5 2]\n",
            " [9 4]]\n",
            "\n",
            "\n",
            "Matriks awal: \n",
            "[[ 5 10 10  7]\n",
            " [ 7  8  4 10]\n",
            " [ 9 10  2  5]\n",
            " [ 1  8  9  3]\n",
            " [ 6 10  5  2]\n",
            " [ 4  6  9  4]]\n",
            "\n",
            "\n",
            "Matriks setelah diubah: \n",
            "[[ 9  3  1  8]\n",
            " [ 5  2  6 10]\n",
            " [ 9  4  4  6]\n",
            " [10  7  5 10]\n",
            " [ 4 10  7  8]\n",
            " [ 2  5  9 10]]\n"
          ]
        }
      ]
    }
  ]
}